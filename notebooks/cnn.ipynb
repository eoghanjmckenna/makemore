{
 "cells": [
  {
   "cell_type": "markdown",
   "metadata": {},
   "source": [
    "In this notebook we will be implementing karpathy's makemore lecture 6. And so here, part of the motivation is to increase the context length i.e. increase the number of characters that are being used to predict the next one in sequence."
   ]
  },
  {
   "cell_type": "code",
   "execution_count": 1,
   "metadata": {},
   "outputs": [],
   "source": [
    "import torch\n",
    "import torch.nn.functional as F\n",
    "import matplotlib.pyplot as plt # for making figures\n",
    "%matplotlib inline"
   ]
  },
  {
   "cell_type": "code",
   "execution_count": 2,
   "metadata": {},
   "outputs": [
    {
     "data": {
      "text/plain": [
       "['<M> <M> <M> <M> <M> <M> <M> <M> <M> <M> 1.0 2.0 4.0 4.0 4.0 1.0 1.0 1.0 1.0 2.0 1.0 2.0 1.0 1.0',\n",
       " '1.0 1.0 1.0 1.0 1.0 1.0 2.0 3.0 1.0 1.0 1.0 1.0 1.0 2.0 7.0 4.0 4.0 2.0 1.0 2.0 1.0 1.0 1.0 1.0',\n",
       " '1.0 1.0 1.0 1.0 1.0 2.0 1.0 3.0 6.0 1.0 1.0 1.0 1.0 1.0 1.0 4.0 8.0 2.0 2.0 2.0 2.0 1.0 1.0 1.0',\n",
       " '1.0 1.0 1.0 1.0 1.0 1.0 3.0 1.0 1.0 2.0 1.0 1.0 1.0 1.0 4.0 1.0 7.0 2.0 1.0 1.0 1.0 1.0 1.0 1.0',\n",
       " '1.0 1.0 1.0 1.0 1.0 1.0 1.0 1.0 1.0 1.0 1.0 1.0 1.0 1.0 1.0 1.0 1.0 1.0 1.0 1.0 1.0 1.0 1.0 1.0',\n",
       " '1.0 1.0 1.0 1.0 1.0 1.0 1.0 1.0 1.0 1.0 1.0 1.0 1.0 1.0 1.0 1.0 1.0 1.0 1.0 1.0 1.0 1.0 1.0 1.0',\n",
       " '1.0 1.0 1.0 1.0 1.0 1.0 1.0 1.0 1.0 1.0 1.0 1.0 1.0 1.0 1.0 1.0 1.0 1.0 1.0 0.0 1.0 0.0 0.0 0.0',\n",
       " '1.0 1.0 1.0 1.0 1.0 1.0 1.0 0.0 0.0 1.0 0.0 1.0 1.0 1.0 1.0 1.0 1.0 1.0 1.0 1.0 1.0 1.0 1.0 1.0']"
      ]
     },
     "execution_count": 2,
     "metadata": {},
     "output_type": "execute_result"
    }
   ],
   "source": [
    "# read in the sequences of demand profiles\n",
    "data = open('../data/data.txt','r').read().splitlines()\n",
    "data[:8]"
   ]
  },
  {
   "cell_type": "code",
   "execution_count": 3,
   "metadata": {},
   "outputs": [
    {
     "data": {
      "text/plain": [
       "{0: '<S>',\n",
       " 1: '0.0',\n",
       " 2: '1.0',\n",
       " 3: '2.0',\n",
       " 4: '3.0',\n",
       " 5: '4.0',\n",
       " 6: '5.0',\n",
       " 7: '6.0',\n",
       " 8: '7.0',\n",
       " 9: '8.0',\n",
       " 10: '9.0',\n",
       " 11: '10.0',\n",
       " 12: '11.0',\n",
       " 13: '12.0',\n",
       " 14: '13.0',\n",
       " 15: '14.0',\n",
       " 16: '15.0',\n",
       " 17: '16.0',\n",
       " 18: '17.0',\n",
       " 19: '18.0',\n",
       " 20: '19.0',\n",
       " 21: '20.0',\n",
       " 22: '<M>',\n",
       " 23: '<E>'}"
      ]
     },
     "execution_count": 3,
     "metadata": {},
     "output_type": "execute_result"
    }
   ],
   "source": [
    "# now we want to create the mapping from string to indices\n",
    "chars = []\n",
    "chars.append('<S>') # start token\n",
    "# Define your order\n",
    "order = ['0.0', '1.0', '2.0', '3.0', '4.0', '5.0', '6.0', '7.0', '8.0', '9.0', '10.0', '11.0', '12.0', '13.0', '14.0', '15.0', '16.0', '17.0', '18.0', '19.0', '20.0']\n",
    "for i in order:\n",
    "    chars.append(i)\n",
    "chars.append('<M>') #<- missing token\n",
    "chars.append('<E>') # end token\n",
    "stoi = {s:i for i,s in enumerate(chars)}\n",
    "itos = {i:s for s,i in stoi.items()}\n",
    "vocab_size = len(itos)\n",
    "itos"
   ]
  },
  {
   "cell_type": "code",
   "execution_count": 4,
   "metadata": {},
   "outputs": [],
   "source": [
    "# shuffle up the words\n",
    "import random\n",
    "random.seed(42)\n",
    "random.shuffle(data)"
   ]
  },
  {
   "cell_type": "code",
   "execution_count": 8,
   "metadata": {},
   "outputs": [
    {
     "name": "stdout",
     "output_type": "stream",
     "text": [
      "torch.Size([13475, 8]) torch.Size([13475])\n",
      "torch.Size([1675, 8]) torch.Size([1675])\n",
      "torch.Size([1700, 8]) torch.Size([1700])\n"
     ]
    }
   ],
   "source": [
    "# let's put this all together\n",
    "block_size = 8 # this is the context length aka the number of characters we used to predict the next in sequence\n",
    "# let's create the training, dev and test sets\n",
    "def build_dataset(data):\n",
    "    X, Y = [], []\n",
    "    for s in data:\n",
    "        #print(s)\n",
    "        context = [0] * block_size\n",
    "        for ch in s.split(' ') + ['<E>']:\n",
    "            ix = stoi[ch]\n",
    "            X.append(context)\n",
    "            Y.append(ix)\n",
    "            #print(' '.join(itos[i] for i in context), '--->', itos[ix])\n",
    "            context = context[1:] + [ix] # crop and append\n",
    "    X = torch.tensor(X)\n",
    "    Y = torch.tensor(Y)\n",
    "    print(X.shape, Y.shape)\n",
    "    return X, Y\n",
    "\n",
    "import random\n",
    "random.seed(42)\n",
    "random.shuffle(data)\n",
    "n1 = int(0.8 * len(data))\n",
    "n2 = int(0.9 * len(data))\n",
    "Xtr, Ytr = build_dataset(data[:n1])\n",
    "Xdev, Ydev = build_dataset(data[n1:n2])\n",
    "Xte, Yte = build_dataset(data[n2:])"
   ]
  },
  {
   "cell_type": "code",
   "execution_count": 9,
   "metadata": {},
   "outputs": [
    {
     "name": "stdout",
     "output_type": "stream",
     "text": [
      "<S> <S> <S> <S> <S> <S> <S> <S> --> 1.0\n",
      "<S> <S> <S> <S> <S> <S> <S> 1.0 --> 0.0\n",
      "<S> <S> <S> <S> <S> <S> 1.0 0.0 --> 2.0\n",
      "<S> <S> <S> <S> <S> 1.0 0.0 2.0 --> 1.0\n",
      "<S> <S> <S> <S> 1.0 0.0 2.0 1.0 --> 1.0\n",
      "<S> <S> <S> 1.0 0.0 2.0 1.0 1.0 --> 1.0\n",
      "<S> <S> 1.0 0.0 2.0 1.0 1.0 1.0 --> 1.0\n",
      "<S> 1.0 0.0 2.0 1.0 1.0 1.0 1.0 --> 3.0\n",
      "1.0 0.0 2.0 1.0 1.0 1.0 1.0 3.0 --> 1.0\n",
      "0.0 2.0 1.0 1.0 1.0 1.0 3.0 1.0 --> 1.0\n",
      "2.0 1.0 1.0 1.0 1.0 3.0 1.0 1.0 --> 1.0\n",
      "1.0 1.0 1.0 1.0 3.0 1.0 1.0 1.0 --> 0.0\n",
      "1.0 1.0 1.0 3.0 1.0 1.0 1.0 0.0 --> 0.0\n",
      "1.0 1.0 3.0 1.0 1.0 1.0 0.0 0.0 --> 1.0\n",
      "1.0 3.0 1.0 1.0 1.0 0.0 0.0 1.0 --> 0.0\n",
      "3.0 1.0 1.0 1.0 0.0 0.0 1.0 0.0 --> 1.0\n",
      "1.0 1.0 1.0 0.0 0.0 1.0 0.0 1.0 --> 3.0\n",
      "1.0 1.0 0.0 0.0 1.0 0.0 1.0 3.0 --> 2.0\n",
      "1.0 0.0 0.0 1.0 0.0 1.0 3.0 2.0 --> 6.0\n",
      "0.0 0.0 1.0 0.0 1.0 3.0 2.0 6.0 --> 9.0\n"
     ]
    }
   ],
   "source": [
    "for x,y in zip(Xtr[:20], Ytr[:20]):\n",
    "  print(' '.join(itos[ix.item()] for ix in x), '-->', itos[y.item()])"
   ]
  },
  {
   "cell_type": "code",
   "execution_count": 10,
   "metadata": {},
   "outputs": [],
   "source": [
    "# Near copy paste of the layers we have developed in Part 3\n",
    "\n",
    "# -----------------------------------------------------------------------------------------------\n",
    "class Linear:\n",
    "  \n",
    "  def __init__(self, fan_in, fan_out, bias=True):\n",
    "    self.weight = torch.randn((fan_in, fan_out)) / fan_in**0.5 # note: kaiming init\n",
    "    self.bias = torch.zeros(fan_out) if bias else None\n",
    "  \n",
    "  def __call__(self, x):\n",
    "    self.out = x @ self.weight\n",
    "    if self.bias is not None:\n",
    "      self.out += self.bias\n",
    "    return self.out\n",
    "  \n",
    "  def parameters(self):\n",
    "    return [self.weight] + ([] if self.bias is None else [self.bias])\n",
    "\n",
    "# -----------------------------------------------------------------------------------------------\n",
    "class BatchNorm1d:\n",
    "  \n",
    "  def __init__(self, dim, eps=1e-5, momentum=0.1):\n",
    "    self.eps = eps\n",
    "    self.momentum = momentum\n",
    "    self.training = True\n",
    "    # parameters (trained with backprop)\n",
    "    self.gamma = torch.ones(dim)\n",
    "    self.beta = torch.zeros(dim)\n",
    "    # buffers (trained with a running 'momentum update')\n",
    "    self.running_mean = torch.zeros(dim)\n",
    "    self.running_var = torch.ones(dim)\n",
    "  \n",
    "  def __call__(self, x):\n",
    "    # calculate the forward pass\n",
    "    if self.training:\n",
    "      if x.ndim == 2:\n",
    "        dim = 0\n",
    "      elif x.ndim == 3:\n",
    "        dim = (0,1)\n",
    "      xmean = x.mean(dim, keepdim=True) # batch mean\n",
    "      xvar = x.var(dim, keepdim=True) # batch variance\n",
    "    else:\n",
    "      xmean = self.running_mean\n",
    "      xvar = self.running_var\n",
    "    xhat = (x - xmean) / torch.sqrt(xvar + self.eps) # normalize to unit variance\n",
    "    self.out = self.gamma * xhat + self.beta\n",
    "    # update the buffers\n",
    "    if self.training:\n",
    "      with torch.no_grad():\n",
    "        self.running_mean = (1 - self.momentum) * self.running_mean + self.momentum * xmean\n",
    "        self.running_var = (1 - self.momentum) * self.running_var + self.momentum * xvar\n",
    "    return self.out\n",
    "  \n",
    "  def parameters(self):\n",
    "    return [self.gamma, self.beta]\n",
    "\n",
    "# -----------------------------------------------------------------------------------------------\n",
    "class Tanh:\n",
    "  def __call__(self, x):\n",
    "    self.out = torch.tanh(x)\n",
    "    return self.out\n",
    "  def parameters(self):\n",
    "    return []\n",
    "\n",
    "# -----------------------------------------------------------------------------------------------\n",
    "class Embedding:\n",
    "  \n",
    "  def __init__(self, num_embeddings, embedding_dim):\n",
    "    self.weight = torch.randn((num_embeddings, embedding_dim))\n",
    "    \n",
    "  def __call__(self, IX):\n",
    "    self.out = self.weight[IX]\n",
    "    return self.out\n",
    "  \n",
    "  def parameters(self):\n",
    "    return [self.weight]\n",
    "\n",
    "# -----------------------------------------------------------------------------------------------\n",
    "class FlattenConsecutive:\n",
    "  \n",
    "  def __init__(self, n):\n",
    "    self.n = n\n",
    "    \n",
    "  def __call__(self, x):\n",
    "    B, T, C = x.shape\n",
    "    x = x.view(B, T//self.n, C*self.n)\n",
    "    if x.shape[1] == 1:\n",
    "      x = x.squeeze(1)\n",
    "    self.out = x\n",
    "    return self.out\n",
    "  \n",
    "  def parameters(self):\n",
    "    return []\n",
    "\n",
    "# -----------------------------------------------------------------------------------------------\n",
    "class Sequential:\n",
    "  \n",
    "  def __init__(self, layers):\n",
    "    self.layers = layers\n",
    "  \n",
    "  def __call__(self, x):\n",
    "    for layer in self.layers:\n",
    "      x = layer(x)\n",
    "    self.out = x\n",
    "    return self.out\n",
    "  \n",
    "  def parameters(self):\n",
    "    # get parameters of all layers and stretch them out into one list\n",
    "    return [p for layer in self.layers for p in layer.parameters()]"
   ]
  },
  {
   "cell_type": "code",
   "execution_count": 11,
   "metadata": {},
   "outputs": [],
   "source": [
    "torch.manual_seed(42); # seed rng for reproducibility"
   ]
  },
  {
   "cell_type": "code",
   "execution_count": 33,
   "metadata": {},
   "outputs": [
    {
     "name": "stdout",
     "output_type": "stream",
     "text": [
      "76120\n"
     ]
    }
   ],
   "source": [
    "# original network\n",
    "# n_embd = 10 # the dimensionality of the character embedding vectors\n",
    "# n_hidden = 300 # the number of neurons in the hidden layer of the MLP\n",
    "# model = Sequential([\n",
    "#   Embedding(vocab_size, n_embd),\n",
    "#   FlattenConsecutive(8), Linear(n_embd * 8, n_hidden, bias=False), BatchNorm1d(n_hidden), Tanh(),\n",
    "#   Linear(n_hidden, vocab_size),\n",
    "# ])\n",
    "\n",
    "# hierarchical network\n",
    "n_embd = 24 # the dimensionality of the character embedding vectors\n",
    "n_hidden = 128 # the number of neurons in the hidden layer of the MLP\n",
    "model = Sequential([\n",
    "  Embedding(vocab_size, n_embd),\n",
    "  FlattenConsecutive(2), Linear(n_embd * 2, n_hidden, bias=False), BatchNorm1d(n_hidden), Tanh(),\n",
    "  FlattenConsecutive(2), Linear(n_hidden*2, n_hidden, bias=False), BatchNorm1d(n_hidden), Tanh(),\n",
    "  FlattenConsecutive(2), Linear(n_hidden*2, n_hidden, bias=False), BatchNorm1d(n_hidden), Tanh(),\n",
    "  Linear(n_hidden, vocab_size),\n",
    "])\n",
    "\n",
    "# parameter init\n",
    "with torch.no_grad():\n",
    "  model.layers[-1].weight *= 0.1 # last layer make less confident\n",
    "\n",
    "parameters = model.parameters()\n",
    "print(sum(p.nelement() for p in parameters)) # number of parameters in total\n",
    "for p in parameters:\n",
    "  p.requires_grad = True"
   ]
  },
  {
   "cell_type": "code",
   "execution_count": 34,
   "metadata": {},
   "outputs": [
    {
     "name": "stdout",
     "output_type": "stream",
     "text": [
      "      0/ 200000: 3.1587\n",
      "  10000/ 200000: 0.7860\n",
      "  20000/ 200000: 1.0771\n",
      "  30000/ 200000: 0.4780\n",
      "  40000/ 200000: 0.4158\n",
      "  50000/ 200000: 1.0279\n",
      "  60000/ 200000: 0.5330\n",
      "  70000/ 200000: 0.3254\n",
      "  80000/ 200000: 0.7676\n",
      "  90000/ 200000: 0.7786\n",
      " 100000/ 200000: 0.4121\n",
      " 110000/ 200000: 0.6428\n",
      " 120000/ 200000: 0.6081\n",
      " 130000/ 200000: 0.3786\n",
      " 140000/ 200000: 0.4038\n",
      " 150000/ 200000: 0.6509\n",
      " 160000/ 200000: 0.3531\n",
      " 170000/ 200000: 0.4651\n",
      " 180000/ 200000: 0.6124\n",
      " 190000/ 200000: 0.6550\n"
     ]
    }
   ],
   "source": [
    "# same optimization as last time\n",
    "max_steps = 200000\n",
    "batch_size = 32\n",
    "lossi = []\n",
    "\n",
    "for i in range(max_steps):\n",
    "  \n",
    "  # minibatch construct\n",
    "  ix = torch.randint(0, Xtr.shape[0], (batch_size,))\n",
    "  Xb, Yb = Xtr[ix], Ytr[ix] # batch X,Y\n",
    "  \n",
    "  # forward pass\n",
    "  logits = model(Xb)\n",
    "  loss = F.cross_entropy(logits, Yb) # loss function\n",
    "  \n",
    "  # backward pass\n",
    "  for p in parameters:\n",
    "    p.grad = None\n",
    "  loss.backward()\n",
    "  \n",
    "  # update: simple SGD\n",
    "  lr = 0.1 if i < 150000 else 0.01 # step learning rate decay\n",
    "  for p in parameters:\n",
    "    p.data += -lr * p.grad\n",
    "\n",
    "  # track stats\n",
    "  if i % 10000 == 0: # print every once in a while\n",
    "    print(f'{i:7d}/{max_steps:7d}: {loss.item():.4f}')\n",
    "  lossi.append(loss.log10().item())"
   ]
  },
  {
   "cell_type": "code",
   "execution_count": 35,
   "metadata": {},
   "outputs": [
    {
     "data": {
      "text/plain": [
       "[<matplotlib.lines.Line2D at 0x14f044a00>]"
      ]
     },
     "execution_count": 35,
     "metadata": {},
     "output_type": "execute_result"
    },
    {
     "data": {
      "image/png": "[encoded data removed]",
      "text/plain": [
       "<Figure size 640x480 with 1 Axes>"
      ]
     },
     "metadata": {},
     "output_type": "display_data"
    }
   ],
   "source": [
    "plt.plot(torch.tensor(lossi).view(-1, 1000).mean(1))"
   ]
  },
  {
   "cell_type": "code",
   "execution_count": 36,
   "metadata": {},
   "outputs": [],
   "source": [
    "# put layers into eval mode (needed for batchnorm especially)\n",
    "for layer in model.layers:\n",
    "  layer.training = False"
   ]
  },
  {
   "cell_type": "code",
   "execution_count": 37,
   "metadata": {},
   "outputs": [
    {
     "name": "stdout",
     "output_type": "stream",
     "text": [
      "train 0.48456045985221863\n",
      "val 1.719918966293335\n"
     ]
    }
   ],
   "source": [
    "# evaluate the loss\n",
    "@torch.no_grad() # this decorator disables gradient tracking inside pytorch\n",
    "def split_loss(split):\n",
    "  x,y = {\n",
    "    'train': (Xtr, Ytr),\n",
    "    'val': (Xdev, Ydev),\n",
    "    'test': (Xte, Yte),\n",
    "  }[split]\n",
    "  logits = model(x)\n",
    "  loss = F.cross_entropy(logits, y)\n",
    "  print(split, loss.item())\n",
    "\n",
    "split_loss('train')\n",
    "split_loss('val')"
   ]
  },
  {
   "cell_type": "markdown",
   "metadata": {},
   "source": [
    "# initial net\n",
    "train 1.000532865524292\n",
    "val 1.394815444946289\n",
    "\n",
    "# after dampening the W2 and b2 (fix softmax confidently wrong)\n",
    "train 1.0001459121704102\n",
    "val 1.2435673475265503\n",
    "\n",
    "# after dampening W1 and B1 (fix tanh saturation)\n",
    "train 1.000976800918579\n",
    "val 1.2172609567642212\n",
    "\n",
    "# after using the kaiming init \n",
    "train 1.0001680850982666\n",
    "val 1.2211095094680786\n",
    "\n",
    "# with batchnorm layer\n",
    "train 1.0072804689407349\n",
    "val 1.1897488832473755\n",
    "\n",
    "# with batchnorm and calibrated bnmean and bnstd\n",
    "train 1.0072836875915527\n",
    "val 1.1784292459487915\n",
    "\n",
    "# with batchnorm and running bnmean and bnstd\n",
    "train 1.0074577331542969\n",
    "val 1.1806522607803345\n",
    "\n",
    "# with 2 layer MLP with batchnorm, and block_size 8 rather than 3\n",
    "train 0.49097272753715515\n",
    "val 1.5978569984436035 \n",
    "Clearly, overfitting. \n",
    "\n",
    "# with hierarchical layers with approx same num parameters as before ~30k\n",
    "train 0.49277666211128235\n",
    "val 1.6888234615325928\n",
    "Slightly worse performance on the val, but similar to the train loss.\n",
    "\n",
    "# with hierarchical and scaled up 72k parameters\n",
    "train 0.48456045985221863\n",
    "val 1.719918966293335\n",
    "Lower train loss, but higher val loss even more overfitting. We're basically memorising the training data. "
   ]
  },
  {
   "cell_type": "code",
   "execution_count": 23,
   "metadata": {},
   "outputs": [
    {
     "name": "stdout",
     "output_type": "stream",
     "text": [
      "1.0 1.0 1.0 1.0 1.0 1.0 1.0 2.0 2.0 2.0 1.0 2.0 2.0 2.0 3.0 3.0 1.0 1.0 2.0 <E>\n",
      "1.0 1.0 1.0 1.0 1.0 1.0 1.0 1.0 1.0 1.0 1.0 1.0 1.0 1.0 1.0 1.0 2.0 1.0 3.0 3.0 1.0 1.0 1.0 1.0 1.0 1.0 1.0 0.0 1.0 1.0 0.0 1.0 1.0 1.0 1.0 1.0 1.0 0.0 1.0 1.0 1.0 1.0 1.0 4.0 1.0 5.0 1.0 1.0 1.0 <E>\n",
      "1.0 1.0 1.0 1.0 1.0 1.0 1.0 1.0 2.0 1.0 1.0 5.0 2.0 5.0 1.0 1.0 1.0 1.0 3.0 2.0 6.0 1.0 1.0 1.0 2.0 2.0 10.0 9.0 3.0 1.0 1.0 1.0 1.0 <E>\n",
      "0.0 1.0 0.0 0.0 1.0 1.0 1.0 1.0 1.0 1.0 <E>\n",
      "1.0 1.0 1.0 1.0 1.0 1.0 2.0 2.0 1.0 1.0 1.0 1.0 1.0 1.0 1.0 1.0 1.0 1.0 1.0 1.0 1.0 3.0 2.0 5.0 1.0 2.0 1.0 1.0 <E>\n",
      "2.0 1.0 1.0 1.0 1.0 1.0 1.0 4.0 2.0 2.0 1.0 1.0 1.0 1.0 1.0 1.0 1.0 1.0 1.0 4.0 5.0 2.0 7.0 1.0 7.0 3.0 3.0 2.0 1.0 1.0 1.0 <E>\n",
      "1.0 1.0 1.0 1.0 1.0 1.0 1.0 2.0 1.0 1.0 2.0 4.0 3.0 2.0 1.0 1.0 <E>\n",
      "0.0 0.0 0.0 0.0 0.0 0.0 0.0 0.0 0.0 0.0 0.0 0.0 0.0 2.0 2.0 1.0 1.0 1.0 1.0 1.0 1.0 0.0 1.0 1.0 1.0 1.0 1.0 1.0 1.0 1.0 1.0 <E>\n",
      "1.0 1.0 1.0 1.0 1.0 1.0 2.0 1.0 1.0 2.0 2.0 1.0 3.0 2.0 1.0 8.0 2.0 2.0 1.0 1.0 3.0 5.0 3.0 2.0 6.0 2.0 <E>\n",
      "1.0 1.0 1.0 1.0 1.0 1.0 1.0 1.0 1.0 1.0 1.0 1.0 1.0 1.0 8.0 2.0 1.0 2.0 1.0 2.0 2.0 1.0 1.0 1.0 2.0 2.0 3.0 2.0 3.0 7.0 3.0 4.0 3.0 1.0 <E>\n",
      "0.0 0.0 0.0 0.0 0.0 1.0 0.0 0.0 0.0 0.0 0.0 <E>\n",
      "1.0 1.0 1.0 1.0 1.0 1.0 2.0 2.0 1.0 2.0 1.0 1.0 9.0 4.0 5.0 3.0 2.0 1.0 3.0 4.0 2.0 6.0 4.0 1.0 <E>\n",
      "1.0 1.0 1.0 1.0 1.0 1.0 1.0 1.0 1.0 1.0 1.0 2.0 4.0 4.0 3.0 3.0 1.0 2.0 1.0 1.0 1.0 6.0 4.0 3.0 3.0 2.0 1.0 1.0 <E>\n",
      "1.0 1.0 1.0 1.0 1.0 1.0 1.0 4.0 4.0 4.0 2.0 3.0 1.0 1.0 <E>\n",
      "1.0 1.0 1.0 1.0 1.0 1.0 1.0 1.0 1.0 1.0 1.0 4.0 4.0 9.0 4.0 2.0 1.0 1.0 <E>\n",
      "1.0 1.0 1.0 1.0 1.0 1.0 1.0 1.0 1.0 1.0 2.0 1.0 1.0 1.0 1.0 1.0 <E>\n",
      "1.0 2.0 0.0 <M> 1.0 1.0 2.0 1.0 1.0 1.0 1.0 1.0 1.0 1.0 2.0 1.0 3.0 3.0 2.0 1.0 <E>\n",
      "1.0 1.0 1.0 1.0 1.0 1.0 1.0 1.0 1.0 1.0 2.0 3.0 2.0 1.0 1.0 1.0 <E>\n",
      "0.0 0.0 0.0 0.0 0.0 0.0 0.0 0.0 0.0 0.0 0.0 0.0 0.0 0.0 0.0 0.0 <E>\n",
      "1.0 1.0 1.0 1.0 1.0 1.0 1.0 3.0 4.0 2.0 4.0 1.0 1.0 1.0 1.0 1.0 1.0 2.0 2.0 1.0 1.0 1.0 1.0 1.0 1.0 0.0 1.0 2.0 1.0 1.0 1.0 0.0 0.0 0.0 1.0 8.0 4.0 2.0 3.0 3.0 2.0 2.0 1.0 1.0 <E>\n"
     ]
    }
   ],
   "source": [
    "for _ in range (20):\n",
    "    out = [] \n",
    "    context = [0] * block_size\n",
    "    while True:\n",
    "        logits = model(torch.tensor([context]))\n",
    "        probs = F.softmax(logits, 1)\n",
    "        ix = torch.multinomial(probs, 1).item()\n",
    "        out.append(ix)\n",
    "        context = context[1:] + [ix]\n",
    "        if itos[out[-1]] == '<E>':\n",
    "            break\n",
    "    print(' '.join(itos[i] for i in out))"
   ]
  }
 ],
 "metadata": {
  "kernelspec": {
   "display_name": ".venv",
   "language": "python",
   "name": "python3"
  },
  "language_info": {
   "codemirror_mode": {
    "name": "ipython",
    "version": 3
   },
   "file_extension": ".py",
   "mimetype": "text/x-python",
   "name": "python",
   "nbconvert_exporter": "python",
   "pygments_lexer": "ipython3",
   "version": "3.9.6"
  }
 },
 "nbformat": 4,
 "nbformat_minor": 2
}
