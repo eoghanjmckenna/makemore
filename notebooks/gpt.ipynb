{
 "cells": [
  {
   "cell_type": "markdown",
   "metadata": {},
   "source": [
    "In this notebook we aim to implement Karpathy's lecture on `nanoGPT`. Here however we apply it not to generating Shakespeare, but household daily energy demand time-series, trained from the IDEAL open dataset. "
   ]
  },
  {
   "cell_type": "code",
   "execution_count": 1,
   "metadata": {},
   "outputs": [
    {
     "data": {
      "text/html": [
       "<div>\n",
       "<style scoped>\n",
       "    .dataframe tbody tr th:only-of-type {\n",
       "        vertical-align: middle;\n",
       "    }\n",
       "\n",
       "    .dataframe tbody tr th {\n",
       "        vertical-align: top;\n",
       "    }\n",
       "\n",
       "    .dataframe thead th {\n",
       "        text-align: right;\n",
       "    }\n",
       "</style>\n",
       "<table border=\"1\" class=\"dataframe\">\n",
       "  <thead>\n",
       "    <tr style=\"text-align: right;\">\n",
       "      <th></th>\n",
       "      <th>household_id</th>\n",
       "      <th>datetime</th>\n",
       "      <th>maxtemp</th>\n",
       "      <th>mintemp</th>\n",
       "      <th>conditions</th>\n",
       "      <th>day_of_week</th>\n",
       "      <th>is_weekend</th>\n",
       "      <th>is_bank_holiday</th>\n",
       "      <th>mean_rounded_gas_pulse</th>\n",
       "      <th>mean_rounded_electric_combined</th>\n",
       "    </tr>\n",
       "  </thead>\n",
       "  <tbody>\n",
       "    <tr>\n",
       "      <th>0</th>\n",
       "      <td>100</td>\n",
       "      <td>2017-03-07</td>\n",
       "      <td>10.0</td>\n",
       "      <td>4.0</td>\n",
       "      <td>Chance of Rain</td>\n",
       "      <td>1.0</td>\n",
       "      <td>False</td>\n",
       "      <td>False</td>\n",
       "      <td>5277.0</td>\n",
       "      <td>343.0</td>\n",
       "    </tr>\n",
       "    <tr>\n",
       "      <th>1</th>\n",
       "      <td>100</td>\n",
       "      <td>2017-03-08</td>\n",
       "      <td>11.0</td>\n",
       "      <td>5.0</td>\n",
       "      <td>Chance of Rain</td>\n",
       "      <td>2.0</td>\n",
       "      <td>False</td>\n",
       "      <td>False</td>\n",
       "      <td>6832.0</td>\n",
       "      <td>253.0</td>\n",
       "    </tr>\n",
       "    <tr>\n",
       "      <th>2</th>\n",
       "      <td>100</td>\n",
       "      <td>2017-03-09</td>\n",
       "      <td>11.0</td>\n",
       "      <td>3.0</td>\n",
       "      <td>Chance of Rain</td>\n",
       "      <td>3.0</td>\n",
       "      <td>False</td>\n",
       "      <td>False</td>\n",
       "      <td>1283.0</td>\n",
       "      <td>203.0</td>\n",
       "    </tr>\n",
       "    <tr>\n",
       "      <th>3</th>\n",
       "      <td>100</td>\n",
       "      <td>2017-03-10</td>\n",
       "      <td>10.0</td>\n",
       "      <td>7.0</td>\n",
       "      <td>Overcast</td>\n",
       "      <td>4.0</td>\n",
       "      <td>False</td>\n",
       "      <td>False</td>\n",
       "      <td>4168.0</td>\n",
       "      <td>222.0</td>\n",
       "    </tr>\n",
       "    <tr>\n",
       "      <th>4</th>\n",
       "      <td>100</td>\n",
       "      <td>2017-03-11</td>\n",
       "      <td>13.0</td>\n",
       "      <td>6.0</td>\n",
       "      <td>Chance of Rain</td>\n",
       "      <td>5.0</td>\n",
       "      <td>True</td>\n",
       "      <td>False</td>\n",
       "      <td>1264.0</td>\n",
       "      <td>243.0</td>\n",
       "    </tr>\n",
       "  </tbody>\n",
       "</table>\n",
       "</div>"
      ],
      "text/plain": [
       "   household_id    datetime  maxtemp  mintemp      conditions  day_of_week  \\\n",
       "0           100  2017-03-07     10.0      4.0  Chance of Rain          1.0   \n",
       "1           100  2017-03-08     11.0      5.0  Chance of Rain          2.0   \n",
       "2           100  2017-03-09     11.0      3.0  Chance of Rain          3.0   \n",
       "3           100  2017-03-10     10.0      7.0        Overcast          4.0   \n",
       "4           100  2017-03-11     13.0      6.0  Chance of Rain          5.0   \n",
       "\n",
       "  is_weekend is_bank_holiday  mean_rounded_gas_pulse  \\\n",
       "0      False           False                  5277.0   \n",
       "1      False           False                  6832.0   \n",
       "2      False           False                  1283.0   \n",
       "3      False           False                  4168.0   \n",
       "4       True           False                  1264.0   \n",
       "\n",
       "   mean_rounded_electric_combined  \n",
       "0                           343.0  \n",
       "1                           253.0  \n",
       "2                           203.0  \n",
       "3                           222.0  \n",
       "4                           243.0  "
      ]
     },
     "execution_count": 1,
     "metadata": {},
     "output_type": "execute_result"
    }
   ],
   "source": [
    "# we start by loading the data that we will use to train the model.\n",
    "import pandas as pd\n",
    "data = pd.read_csv('/Users/eoghan/repos/makemore/data/daily_demand_and_weather.csv')\n",
    "data.head()"
   ]
  },
  {
   "cell_type": "code",
   "execution_count": 47,
   "metadata": {},
   "outputs": [
    {
     "data": {
      "text/plain": [
       "71606"
      ]
     },
     "execution_count": 47,
     "metadata": {},
     "output_type": "execute_result"
    }
   ],
   "source": [
    "# to start, we will just work with the gas data, later we will complexify things by adding in electricity and weather, and information about the calender day\n",
    "raw_gas = data['mean_rounded_gas_pulse'].copy()\n",
    "# what is the length of the dataset?\n",
    "len(raw_gas)"
   ]
  },
  {
   "cell_type": "markdown",
   "metadata": {},
   "source": [
    "So not that many datapoints, so our model will very easily over-fit this training data. But that's okay at this stage, this is mainly about creating a simple example, to learn, to make mistakes, to incrementally add features to the model, and which we can then subsequently work with more complex data later."
   ]
  },
  {
   "cell_type": "code",
   "execution_count": 4,
   "metadata": {},
   "outputs": [
    {
     "data": {
      "text/plain": [
       "Text(0, 0.5, 'Wh')"
      ]
     },
     "execution_count": 4,
     "metadata": {},
     "output_type": "execute_result"
    },
    {
     "data": {
      "image/png": "[encoded data removed]",
      "text/plain": [
       "<Figure size 640x480 with 1 Axes>"
      ]
     },
     "metadata": {},
     "output_type": "display_data"
    }
   ],
   "source": [
    "# plot a couple of weeks of data\n",
    "import matplotlib.pyplot as plt\n",
    "plt.plot(raw_gas[0:7*3])\n",
    "# y-label Wh\n",
    "plt.ylabel('Wh')"
   ]
  },
  {
   "cell_type": "markdown",
   "metadata": {},
   "source": [
    "Now, we are dealing with a different type of data than typically used for GPT, which is text. So we are going to need to convert our numeric time-series, into indices, from 0 to the length of the models 'vocabulary'. "
   ]
  },
  {
   "cell_type": "code",
   "execution_count": 23,
   "metadata": {},
   "outputs": [
    {
     "data": {
      "text/plain": [
       "11292"
      ]
     },
     "execution_count": 23,
     "metadata": {},
     "output_type": "execute_result"
    }
   ],
   "source": [
    "# how many unique values are there in the dataset?\n",
    "len(raw_gas.unique())"
   ]
  },
  {
   "cell_type": "code",
   "execution_count": 19,
   "metadata": {},
   "outputs": [
    {
     "data": {
      "text/plain": [
       "count    59655.000000\n",
       "mean      4158.431498\n",
       "std       5681.697170\n",
       "min          0.000000\n",
       "25%       1327.000000\n",
       "50%       2855.000000\n",
       "75%       5123.500000\n",
       "max      99805.000000\n",
       "Name: mean_rounded_gas_pulse, dtype: float64"
      ]
     },
     "execution_count": 19,
     "metadata": {},
     "output_type": "execute_result"
    }
   ],
   "source": [
    "raw_gas.describe()"
   ]
  },
  {
   "cell_type": "code",
   "execution_count": 48,
   "metadata": {},
   "outputs": [],
   "source": [
    "# set all values less than 0 to 0\n",
    "raw_gas.loc[raw_gas < 0] = 0"
   ]
  },
  {
   "cell_type": "code",
   "execution_count": 49,
   "metadata": {},
   "outputs": [],
   "source": [
    "# set unreasonably high values to Nan\n",
    "import numpy as np\n",
    "raw_gas.loc[raw_gas > 100000] = np.nan"
   ]
  },
  {
   "cell_type": "code",
   "execution_count": 24,
   "metadata": {},
   "outputs": [
    {
     "data": {
      "text/plain": [
       "(11951, 71606)"
      ]
     },
     "execution_count": 24,
     "metadata": {},
     "output_type": "execute_result"
    }
   ],
   "source": [
    "raw_gas.isna().sum(), len(raw_gas)"
   ]
  },
  {
   "cell_type": "code",
   "execution_count": 50,
   "metadata": {},
   "outputs": [
    {
     "data": {
      "text/plain": [
       "2454"
      ]
     },
     "execution_count": 50,
     "metadata": {},
     "output_type": "execute_result"
    }
   ],
   "source": [
    "# so let's simplify the dataset, and round raw_gas to the nearest 10, just to reduce the size of our vocabulary. \n",
    "raw_gas = raw_gas.round(-1)\n",
    "len(raw_gas.unique())"
   ]
  },
  {
   "cell_type": "markdown",
   "metadata": {},
   "source": [
    "Okay, so we've got a vocabulary of 2454. And now we can create a mapping for these unique values. "
   ]
  },
  {
   "cell_type": "code",
   "execution_count": 51,
   "metadata": {},
   "outputs": [],
   "source": [
    "# first however we need to deal with missing values, in particular we need to replace any nan with a special character <M> which will represent missing values\n",
    "raw_gas = raw_gas.astype(str).replace('nan', '<M>')"
   ]
  },
  {
   "cell_type": "code",
   "execution_count": 53,
   "metadata": {},
   "outputs": [],
   "source": [
    "unique_values = raw_gas.unique()\n"
   ]
  },
  {
   "cell_type": "code",
   "execution_count": 54,
   "metadata": {},
   "outputs": [
    {
     "name": "stdout",
     "output_type": "stream",
     "text": [
      "['9930.0' '9940.0' '99470.0' '9950.0' '9960.0' '9970.0' '9980.0' '99800.0'\n",
      " '9990.0' '<M>']\n"
     ]
    }
   ],
   "source": [
    "unique_values.sort()\n",
    "print(unique_values[-10:])"
   ]
  },
  {
   "cell_type": "code",
   "execution_count": 57,
   "metadata": {},
   "outputs": [
    {
     "name": "stdout",
     "output_type": "stream",
     "text": [
      "0    5280.0\n",
      "1    6830.0\n",
      "2    1280.0\n",
      "3    4170.0\n",
      "4    1260.0\n",
      "5    3860.0\n",
      "6    1110.0\n",
      "7    1640.0\n",
      "8    3340.0\n",
      "9    6470.0\n",
      "Name: mean_rounded_gas_pulse, dtype: object\n",
      "[1784, 2031, 304, 1588, 283, 1530, 122, 648, 1405, 1973]\n",
      "[5280.0, 6830.0, 1280.0, 4170.0, 1260.0, 3860.0, 1110.0, 1640.0, 3340.0, 6470.0]\n"
     ]
    }
   ],
   "source": [
    "#create a mapping from values to indices\n",
    "vtoi = {val:i for i, val in enumerate(unique_values)}\n",
    "itov = {i:val for i, val in enumerate(unique_values)}\n",
    "\n",
    "encode = lambda v: [vtoi[val] for val in v] # take a list of values and return a list of indices\n",
    "decode = lambda l: [float(itov[i]) for i in l] # take a list of indices and return a list of values\n",
    "\n",
    "print(raw_gas[:10])\n",
    "print(encode(raw_gas[:10]))\n",
    "print(decode(encode(raw_gas[:10])))\n"
   ]
  },
  {
   "cell_type": "code",
   "execution_count": 61,
   "metadata": {},
   "outputs": [
    {
     "data": {
      "text/plain": [
       "[2453, 2453]"
      ]
     },
     "execution_count": 61,
     "metadata": {},
     "output_type": "execute_result"
    }
   ],
   "source": [
    "encode(['<M>', '<M>'])"
   ]
  },
  {
   "cell_type": "code",
   "execution_count": 63,
   "metadata": {},
   "outputs": [
    {
     "name": "stdout",
     "output_type": "stream",
     "text": [
      "torch.int64 torch.Size([71606])\n",
      "tensor([1784, 2031,  304, 1588,  283, 1530,  122,  648, 1405, 1973, 1967, 1332,\n",
      "         676,  137,  421,  526, 1525, 2220, 1474, 1184,  208, 1791, 1666,  813,\n",
      "        1320,  813, 1903,   88, 1914, 1948,  853,  197,  638,  430,  996, 1361,\n",
      "         860, 1082, 2426, 1110, 1797,   68,  561, 1134,  132, 1050, 1326, 1439,\n",
      "        1660, 1739,  107,  304,  369, 1611, 1555,  165, 1254,   12, 1594, 1165,\n",
      "         666, 1785, 1364,  684,  794,  821,  283,  740,  941, 1719, 1213, 1572,\n",
      "        1165,  996, 1494, 1349, 1549, 1673,   33,   77,   66, 1344, 1302,  378,\n",
      "        2214,  709, 1059,  514, 1618,  959, 1272, 1368, 2352, 2441, 2211, 1964,\n",
      "        2010, 1082, 1293, 2095])\n"
     ]
    }
   ],
   "source": [
    "# and now we can encode the entire dataset and store it as a torch tensor\n",
    "import torch\n",
    "data = torch.tensor(encode(raw_gas), dtype=torch.long)\n",
    "print(data.dtype, data.shape)\n",
    "print(data[:100])"
   ]
  },
  {
   "cell_type": "code",
   "execution_count": 64,
   "metadata": {},
   "outputs": [],
   "source": [
    "# let's split the data into train and validation splits 0.9 / 0.1\n",
    "n = int(0.9*len(data))\n",
    "train_data = data[:n]\n",
    "val_data = data[n:]"
   ]
  },
  {
   "cell_type": "code",
   "execution_count": 82,
   "metadata": {},
   "outputs": [
    {
     "data": {
      "text/plain": [
       "(tensor([[ 0,  1,  2,  3,  4,  5,  6,  7,  8,  9, 10],\n",
       "         [ 0,  1,  2,  3,  4,  5,  6,  7,  8,  9, 10]]),\n",
       " torch.Size([2, 11]))"
      ]
     },
     "execution_count": 82,
     "metadata": {},
     "output_type": "execute_result"
    }
   ],
   "source": [
    "test1 = torch.tensor([0, 1, 2, 3, 4, 5, 6, 7, 8, 9, 10])\n",
    "test2 = torch.tensor([0, 1, 2, 3, 4, 5, 6, 7, 8, 9, 10])\n",
    "stack = torch.stack([test1, test2], dim=0)\n",
    "stack, stack.shape"
   ]
  },
  {
   "cell_type": "code",
   "execution_count": null,
   "metadata": {},
   "outputs": [],
   "source": []
  },
  {
   "cell_type": "code",
   "execution_count": 65,
   "metadata": {},
   "outputs": [
    {
     "name": "stdout",
     "output_type": "stream",
     "text": [
      "inputs:\n",
      "torch.Size([4, 8])\n",
      "tensor([[1216, 1224, 1508, 1474, 1337, 1410, 1462, 1213],\n",
      "        [2453, 1232, 1724, 1891, 2324, 2453, 2453, 2453],\n",
      "        [1851,  568, 2453,   67, 1626, 2261,  826, 2440],\n",
      "        [1518, 1518, 1633, 1491,   77, 1555,    1, 2381]])\n",
      "targets:\n",
      "torch.Size([4, 8])\n",
      "tensor([[1224, 1508, 1474, 1337, 1410, 1462, 1213, 1477],\n",
      "        [1232, 1724, 1891, 2324, 2453, 2453, 2453, 1587],\n",
      "        [ 568, 2453,   67, 1626, 2261,  826, 2440,  254],\n",
      "        [1518, 1633, 1491,   77, 1555,    1, 2381,   33]])\n",
      "----\n",
      "when input is [1216] the target: 1224\n",
      "when input is [1216, 1224] the target: 1508\n",
      "when input is [1216, 1224, 1508] the target: 1474\n",
      "when input is [1216, 1224, 1508, 1474] the target: 1337\n",
      "when input is [1216, 1224, 1508, 1474, 1337] the target: 1410\n",
      "when input is [1216, 1224, 1508, 1474, 1337, 1410] the target: 1462\n",
      "when input is [1216, 1224, 1508, 1474, 1337, 1410, 1462] the target: 1213\n",
      "when input is [1216, 1224, 1508, 1474, 1337, 1410, 1462, 1213] the target: 1477\n",
      "when input is [2453] the target: 1232\n",
      "when input is [2453, 1232] the target: 1724\n",
      "when input is [2453, 1232, 1724] the target: 1891\n",
      "when input is [2453, 1232, 1724, 1891] the target: 2324\n",
      "when input is [2453, 1232, 1724, 1891, 2324] the target: 2453\n",
      "when input is [2453, 1232, 1724, 1891, 2324, 2453] the target: 2453\n",
      "when input is [2453, 1232, 1724, 1891, 2324, 2453, 2453] the target: 2453\n",
      "when input is [2453, 1232, 1724, 1891, 2324, 2453, 2453, 2453] the target: 1587\n",
      "when input is [1851] the target: 568\n",
      "when input is [1851, 568] the target: 2453\n",
      "when input is [1851, 568, 2453] the target: 67\n",
      "when input is [1851, 568, 2453, 67] the target: 1626\n",
      "when input is [1851, 568, 2453, 67, 1626] the target: 2261\n",
      "when input is [1851, 568, 2453, 67, 1626, 2261] the target: 826\n",
      "when input is [1851, 568, 2453, 67, 1626, 2261, 826] the target: 2440\n",
      "when input is [1851, 568, 2453, 67, 1626, 2261, 826, 2440] the target: 254\n",
      "when input is [1518] the target: 1518\n",
      "when input is [1518, 1518] the target: 1633\n",
      "when input is [1518, 1518, 1633] the target: 1491\n",
      "when input is [1518, 1518, 1633, 1491] the target: 77\n",
      "when input is [1518, 1518, 1633, 1491, 77] the target: 1555\n",
      "when input is [1518, 1518, 1633, 1491, 77, 1555] the target: 1\n",
      "when input is [1518, 1518, 1633, 1491, 77, 1555, 1] the target: 2381\n",
      "when input is [1518, 1518, 1633, 1491, 77, 1555, 1, 2381] the target: 33\n"
     ]
    }
   ],
   "source": [
    "torch.manual_seed(1337)\n",
    "batch_size = 4 # how many independent sequences will we process in parallel?\n",
    "block_size = 8 # what is the maximum context length for predictions?\n",
    "\n",
    "def get_batch(split):\n",
    "    # generate a small batch of data of inputs x and targets y\n",
    "    data = train_data if split == 'train' else val_data\n",
    "    ix = torch.randint(len(data) - block_size, (batch_size,))\n",
    "    x = torch.stack([data[i:i+block_size] for i in ix])\n",
    "    y = torch.stack([data[i+1:i+block_size+1] for i in ix])\n",
    "    return x, y\n",
    "\n",
    "xb, yb = get_batch('train')\n",
    "print('inputs:')\n",
    "print(xb.shape)\n",
    "print(xb)\n",
    "print('targets:')\n",
    "print(yb.shape)\n",
    "print(yb)\n",
    "\n",
    "print('----')\n",
    "\n",
    "for b in range(batch_size): # batch dimension\n",
    "    for t in range(block_size): # time dimension\n",
    "        context = xb[b, :t+1]\n",
    "        target = yb[b,t]\n",
    "        print(f\"when input is {context.tolist()} the target: {target}\")"
   ]
  }
 ],
 "metadata": {
  "kernelspec": {
   "display_name": ".venv",
   "language": "python",
   "name": "python3"
  },
  "language_info": {
   "codemirror_mode": {
    "name": "ipython",
    "version": 3
   },
   "file_extension": ".py",
   "mimetype": "text/x-python",
   "name": "python",
   "nbconvert_exporter": "python",
   "pygments_lexer": "ipython3",
   "version": "3.9.6"
  }
 },
 "nbformat": 4,
 "nbformat_minor": 2
}
